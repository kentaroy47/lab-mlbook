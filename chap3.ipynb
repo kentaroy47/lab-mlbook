{
 "cells": [
  {
   "cell_type": "markdown",
   "metadata": {},
   "source": [
    "#  Irisデータセットを読み込み"
   ]
  },
  {
   "cell_type": "code",
   "execution_count": 3,
   "metadata": {},
   "outputs": [],
   "source": [
    "from sklearn import datasets\n",
    "import numpy as np\n",
    "iris = datasets.load_iris()\n",
    "\n",
    "data = iris.data[:, [2,3]]\n",
    "target = iris.target"
   ]
  },
  {
   "cell_type": "markdown",
   "metadata": {},
   "source": [
    "# データ分割"
   ]
  },
  {
   "cell_type": "code",
   "execution_count": 4,
   "metadata": {},
   "outputs": [],
   "source": [
    "from sklearn.model_selection import train_test_split\n",
    "X_train, X_test, y_train, y_test = train_test_split(data, target, test_size=0.3, random_state=0)"
   ]
  },
  {
   "cell_type": "code",
   "execution_count": 5,
   "metadata": {},
   "outputs": [],
   "source": [
    "# scaling\n",
    "from sklearn.preprocessing import StandardScaler\n",
    "sc = StandardScaler()\n",
    "sc.fit(X_train)\n",
    "\n",
    "X_train_std = sc.transform(X_train)\n",
    "X_test_std = sc.transform(X_test)"
   ]
  },
  {
   "cell_type": "code",
   "execution_count": 11,
   "metadata": {},
   "outputs": [],
   "source": [
    "from matplotlib.colors import ListedColormap\n",
    "\n",
    "# コピペ\n",
    "def plot_decision_regions(X, y, classifier, test_index=None, resolution=0.02):\n",
    "  markers = (\"s\"  , \"x\"   , \"o\"         , \"^\"   , \"v\"   )\n",
    "  colors  = (\"red\", \"blue\", \"lightgreen\", \"gray\", \"cyan\")\n",
    "  cmap = ListedColormap(colors[:len(np.unique(y))])\n",
    "\n",
    "  # 決定領域のプロット\n",
    "  x1_min = X[:, 0].min() - 1\n",
    "  x1_max = X[:, 0].max() + 1\n",
    "  x2_min = X[:, 1].min() - 1\n",
    "  x2_max = X[:, 1].max() + 1\n",
    "  \n",
    "  # グリッドポイントの生成\n",
    "  xx1, xx2 = np.meshgrid(np.arange(x1_min, x1_max, resolution),\n",
    "                         np.arange(x2_min, x2_max, resolution))\n",
    "  \n",
    "  # 予測\n",
    "  Z = classifier.predict(np.array([xx1.ravel(), xx2.ravel()]).T)\n",
    "  Z = Z.reshape(xx1.shape)\n",
    "\n",
    "\n",
    "  plt.contourf(xx1, xx2, Z, alpha=0.3, cmap=cmap)\n",
    "  plt.xlim(xx1.min(), xx1.max())\n",
    "  plt.ylim(xx2.min(), xx2.max())\n",
    "\n",
    "  for index, cl in enumerate(np.unique(y)):\n",
    "    plt.scatter(\n",
    "        x = X[y == cl, 0],\n",
    "        y = X[y == cl, 1],\n",
    "        alpha = 0.8,\n",
    "        c = colors[index],\n",
    "        marker = markers[index],\n",
    "        label = cl,\n",
    "        edgecolor = \"black\"\n",
    "    )\n",
    "  if test_index:\n",
    "    X_test, y_test = X[test_index, :], y[test_index]\n",
    "    plt.scatter(X_test[:, 0], X_test[:, 1], c=\"\", edgecolor=\"black\",\n",
    "                alpha=1.0, linewidth=1, marker=\"o\", s=100, label=\"test set\")"
   ]
  },
  {
   "cell_type": "markdown",
   "metadata": {},
   "source": [
    "# Logistic regression"
   ]
  },
  {
   "cell_type": "code",
   "execution_count": 6,
   "metadata": {},
   "outputs": [
    {
     "name": "stdout",
     "output_type": "stream",
     "text": [
      "train acc: 0.6952380952380952\n",
      "test acc: 0.6\n",
      "train acc: 0.9428571428571428\n",
      "test acc: 0.9555555555555556\n",
      "train acc: 0.9523809523809523\n",
      "test acc: 0.9555555555555556\n",
      "train acc: 0.9523809523809523\n",
      "test acc: 0.9777777777777777\n",
      "train acc: 0.9523809523809523\n",
      "test acc: 0.9777777777777777\n",
      "train acc: 0.9619047619047619\n",
      "test acc: 0.9777777777777777\n",
      "train acc: 0.9619047619047619\n",
      "test acc: 0.9777777777777777\n"
     ]
    },
    {
     "data": {
      "image/png": "[encoded data removed]",
      "text/plain": [
       "<Figure size 432x288 with 1 Axes>"
      ]
     },
     "metadata": {
      "needs_background": "light"
     },
     "output_type": "display_data"
    }
   ],
   "source": [
    "from sklearn.linear_model import LogisticRegression\n",
    "import matplotlib.pyplot as plt\n",
    "\n",
    "C = [0.01,0.1,1,10,100,1000,10000]\n",
    "\n",
    "train_accs = []\n",
    "test_accs = []\n",
    "\n",
    "# run Logistic Regression with various Cs\n",
    "for c in C:\n",
    "    lr = LogisticRegression(C=c, random_state=0)\n",
    "    lr.fit(X_train_std, y_train)\n",
    "    train_pred = lr.predict(X_train_std)\n",
    "    train_ac = np.sum(y_train==train_pred)/len(train_pred)\n",
    "\n",
    "    test_pred = lr.predict(X_test_std)\n",
    "    test_ac = np.sum(y_test==test_pred)/len(test_pred)\n",
    "\n",
    "    print(\"train acc:\", train_ac)\n",
    "    print(\"test acc:\", test_ac)\n",
    "    train_accs.append(train_ac)\n",
    "    test_accs.append(test_ac)\n",
    "\n",
    "plt.xscale(\"log\")\n",
    "plt.xlabel(\"C\")\n",
    "plt.ylabel(\"accuracy [%]\")\n",
    "plt.plot(C, train_accs, label=\"train\")\n",
    "plt.plot(C, test_accs, label=\"test\")\n",
    "plt.legend()\n",
    "plt.show()"
   ]
  },
  {
   "cell_type": "markdown",
   "metadata": {},
   "source": [
    "# Linear Support vector machines with sklearn"
   ]
  },
  {
   "cell_type": "code",
   "execution_count": 7,
   "metadata": {},
   "outputs": [
    {
     "name": "stdout",
     "output_type": "stream",
     "text": [
      "train acc: 0.6952380952380952\n",
      "test acc: 0.6\n",
      "train acc: 0.9523809523809523\n",
      "test acc: 0.9555555555555556\n",
      "train acc: 0.9523809523809523\n",
      "test acc: 0.9777777777777777\n",
      "train acc: 0.9523809523809523\n",
      "test acc: 0.9777777777777777\n",
      "train acc: 0.9523809523809523\n",
      "test acc: 0.9777777777777777\n",
      "train acc: 0.9523809523809523\n",
      "test acc: 0.9777777777777777\n",
      "train acc: 0.9523809523809523\n",
      "test acc: 0.9777777777777777\n"
     ]
    },
    {
     "data": {
      "image/png": "[encoded data removed]",
      "text/plain": [
       "<Figure size 432x288 with 1 Axes>"
      ]
     },
     "metadata": {
      "needs_background": "light"
     },
     "output_type": "display_data"
    }
   ],
   "source": [
    "from sklearn.linear_model import SGDClassifier\n",
    "from sklearn.svm import SVC\n",
    "\n",
    "\n",
    "C = [0.01,0.1,1,10,100,1000,10000]\n",
    "\n",
    "train_accs = []\n",
    "test_accs = []\n",
    "\n",
    "# run linear SVM with various Cs\n",
    "for c in C:\n",
    "    lr = SVC(kernel=\"linear\", C=c, random_state=0)\n",
    "    lr.fit(X_train_std, y_train)\n",
    "    train_pred = lr.predict(X_train_std)\n",
    "    train_ac = np.sum(y_train==train_pred)/len(train_pred)\n",
    "\n",
    "    test_pred = lr.predict(X_test_std)\n",
    "    test_ac = np.sum(y_test==test_pred)/len(test_pred)\n",
    "\n",
    "    print(\"train acc:\", train_ac)\n",
    "    print(\"test acc:\", test_ac)\n",
    "    train_accs.append(train_ac)\n",
    "    test_accs.append(test_ac)\n",
    "\n",
    "plt.xscale(\"log\")\n",
    "plt.xlabel(\"C\")\n",
    "plt.ylabel(\"accuracy [%]\")\n",
    "plt.plot(C, train_accs, label=\"train\")\n",
    "plt.plot(C, test_accs, label=\"test\")\n",
    "plt.legend()\n",
    "plt.show()\n",
    "\n"
   ]
  },
  {
   "cell_type": "markdown",
   "metadata": {},
   "source": [
    "# Kernel SVMs"
   ]
  },
  {
   "cell_type": "code",
   "execution_count": 9,
   "metadata": {},
   "outputs": [
    {
     "name": "stdout",
     "output_type": "stream",
     "text": [
      "**********\n",
      "C: 0.01\n",
      "train acc: 0.37142857142857144\n",
      "test acc: 0.24444444444444444\n",
      "**********\n",
      "C: 0.1\n",
      "train acc: 0.9523809523809523\n",
      "test acc: 0.9777777777777777\n",
      "**********\n",
      "C: 1\n",
      "train acc: 0.9523809523809523\n",
      "test acc: 0.9777777777777777\n",
      "**********\n",
      "C: 10\n",
      "train acc: 0.9523809523809523\n",
      "test acc: 0.9777777777777777\n",
      "**********\n",
      "C: 100\n",
      "train acc: 0.9523809523809523\n",
      "test acc: 1.0\n",
      "**********\n",
      "C: 1000\n",
      "train acc: 0.9714285714285714\n",
      "test acc: 0.9777777777777777\n",
      "**********\n",
      "C: 10000\n",
      "train acc: 0.9904761904761905\n",
      "test acc: 0.9555555555555556\n"
     ]
    },
    {
     "data": {
      "image/png": "[encoded data removed]",
      "text/plain": [
       "<Figure size 432x288 with 1 Axes>"
      ]
     },
     "metadata": {
      "needs_background": "light"
     },
     "output_type": "display_data"
    }
   ],
   "source": [
    "from sklearn.linear_model import SGDClassifier\n",
    "from sklearn.svm import SVC\n",
    "\n",
    "\n",
    "C = [0.01,0.1,1,10,100,1000,10000]\n",
    "\n",
    "train_accs = []\n",
    "test_accs = []\n",
    "\n",
    "# run linear SVM with various Cs\n",
    "for c in C:\n",
    "    lr = SVC(kernel=\"rbf\", C=c, random_state=0)\n",
    "    lr.fit(X_train_std, y_train)\n",
    "    train_pred = lr.predict(X_train_std)\n",
    "    train_ac = np.sum(y_train==train_pred)/len(train_pred)\n",
    "\n",
    "    test_pred = lr.predict(X_test_std)\n",
    "    test_ac = np.sum(y_test==test_pred)/len(test_pred)\n",
    "\n",
    "    print(\"*\"*10)\n",
    "    print(\"C:\", c)\n",
    "    print(\"train acc:\", train_ac)\n",
    "    print(\"test acc:\", test_ac)\n",
    "    train_accs.append(train_ac)\n",
    "    test_accs.append(test_ac)\n",
    "\n",
    "plt.xscale(\"log\")\n",
    "plt.xlabel(\"C\")\n",
    "plt.ylabel(\"accuracy [%]\")\n",
    "plt.plot(C, train_accs, label=\"train\")\n",
    "plt.plot(C, test_accs, label=\"test\")\n",
    "plt.legend()\n",
    "plt.show()\n",
    "\n"
   ]
  },
  {
   "cell_type": "code",
   "execution_count": 10,
   "metadata": {},
   "outputs": [
    {
     "name": "stdout",
     "output_type": "stream",
     "text": [
      "**********\n",
      "G: 0.01\n",
      "train acc: 0.8952380952380953\n",
      "test acc: 0.7777777777777778\n",
      "**********\n",
      "G: 0.1\n",
      "train acc: 0.9523809523809523\n",
      "test acc: 0.9777777777777777\n",
      "**********\n",
      "G: 1\n",
      "train acc: 0.9523809523809523\n",
      "test acc: 0.9777777777777777\n",
      "**********\n",
      "G: 10\n",
      "train acc: 0.9523809523809523\n",
      "test acc: 1.0\n",
      "**********\n",
      "G: 100\n",
      "train acc: 0.9904761904761905\n",
      "test acc: 0.8\n",
      "**********\n",
      "G: 1000\n",
      "train acc: 0.9904761904761905\n",
      "test acc: 0.6222222222222222\n",
      "**********\n",
      "G: 10000\n",
      "train acc: 0.9904761904761905\n",
      "test acc: 0.6222222222222222\n"
     ]
    },
    {
     "data": {
      "image/png": "[encoded data removed]",
      "text/plain": [
       "<Figure size 432x288 with 1 Axes>"
      ]
     },
     "metadata": {
      "needs_background": "light"
     },
     "output_type": "display_data"
    }
   ],
   "source": [
    "from sklearn.linear_model import SGDClassifier\n",
    "from sklearn.svm import SVC\n",
    "\n",
    "\n",
    "Gamma = [0.01,0.1,1,10,100,1000,10000]\n",
    "\n",
    "train_accs = []\n",
    "test_accs = []\n",
    "\n",
    "# run linear SVM with various gammas\n",
    "for g in Gamma:\n",
    "    lr = SVC(kernel=\"rbf\", C=1, gamma=g, random_state=0)\n",
    "    lr.fit(X_train_std, y_train)\n",
    "    train_pred = lr.predict(X_train_std)\n",
    "    train_ac = np.sum(y_train==train_pred)/len(train_pred)\n",
    "\n",
    "    test_pred = lr.predict(X_test_std)\n",
    "    test_ac = np.sum(y_test==test_pred)/len(test_pred)\n",
    "\n",
    "    print(\"*\"*10)\n",
    "    print(\"G:\", g)\n",
    "    print(\"train acc:\", train_ac)\n",
    "    print(\"test acc:\", test_ac)\n",
    "    train_accs.append(train_ac)\n",
    "    test_accs.append(test_ac)\n",
    "\n",
    "plt.xscale(\"log\")\n",
    "plt.xlabel(\"G\")\n",
    "plt.ylabel(\"accuracy [%]\")\n",
    "plt.plot(Gamma, train_accs, label=\"train\")\n",
    "plt.plot(Gamma, test_accs, label=\"test\")\n",
    "plt.legend()\n",
    "plt.show()\n",
    "\n"
   ]
  },
  {
   "cell_type": "markdown",
   "metadata": {},
   "source": [
    "# Decision trees"
   ]
  },
  {
   "cell_type": "code",
   "execution_count": 19,
   "metadata": {},
   "outputs": [
    {
     "name": "stdout",
     "output_type": "stream",
     "text": [
      "train acc: 0.9809523809523809\n",
      "test acc: 0.9777777777777777\n"
     ]
    }
   ],
   "source": [
    "from sklearn.tree import DecisionTreeClassifier\n",
    "tree = DecisionTreeClassifier(criterion=\"entropy\", max_depth=4, random_state=0)\n",
    "tree.fit(X_train, y_train)\n",
    "\n",
    "train_pred = tree.predict(X_train)\n",
    "train_ac = np.sum(y_train==train_pred)/len(train_pred)\n",
    "\n",
    "test_pred = tree.predict(X_test)\n",
    "test_ac = np.sum(y_test==test_pred)/len(test_pred)\n",
    "\n",
    "print(\"train acc:\", train_ac)\n",
    "print(\"test acc:\", test_ac)"
   ]
  },
  {
   "cell_type": "markdown",
   "metadata": {},
   "source": [
    "# Random forest"
   ]
  },
  {
   "cell_type": "code",
   "execution_count": 29,
   "metadata": {},
   "outputs": [
    {
     "name": "stdout",
     "output_type": "stream",
     "text": [
      "train acc: 0.9904761904761905\n",
      "test acc: 0.9777777777777777\n"
     ]
    }
   ],
   "source": [
    "from sklearn.ensemble import RandomForestClassifier\n",
    "tree = RandomForestClassifier(criterion=\"entropy\", n_estimators=100, random_state=0, max_depth=5)\n",
    "tree.fit(X_train, y_train)\n",
    "\n",
    "train_pred = tree.predict(X_train)\n",
    "train_ac = np.sum(y_train==train_pred)/len(train_pred)\n",
    "\n",
    "test_pred = tree.predict(X_test)\n",
    "test_ac = np.sum(y_test==test_pred)/len(test_pred)\n",
    "\n",
    "print(\"train acc:\", train_ac)\n",
    "print(\"test acc:\", test_ac)"
   ]
  },
  {
   "cell_type": "code",
   "execution_count": null,
   "metadata": {},
   "outputs": [],
   "source": []
  }
 ],
 "metadata": {
  "interpreter": {
   "hash": "7af331789ae3856abc3a5e96e8196d39fa8a6ae802a75249d7099fb701c5a867"
  },
  "kernelspec": {
   "display_name": "Python 3.7.10 ('pytorch')",
   "language": "python",
   "name": "python3"
  },
  "language_info": {
   "codemirror_mode": {
    "name": "ipython",
    "version": 3
   },
   "file_extension": ".py",
   "mimetype": "text/x-python",
   "name": "python",
   "nbconvert_exporter": "python",
   "pygments_lexer": "ipython3",
   "version": "3.7.10"
  },
  "orig_nbformat": 4
 },
 "nbformat": 4,
 "nbformat_minor": 2
}
