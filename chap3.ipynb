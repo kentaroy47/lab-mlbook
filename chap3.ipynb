{
 "cells": [
  {
   "cell_type": "code",
   "execution_count": 1,
   "metadata": {},
   "outputs": [],
   "source": [
    "from sklearn import datasets\n",
    "import numpy as np\n",
    "iris = datasets.load_iris()\n",
    "\n",
    "data = iris.data[:, [2,3]]\n",
    "target = iris.target"
   ]
  },
  {
   "cell_type": "markdown",
   "metadata": {},
   "source": [
    "データ分割"
   ]
  },
  {
   "cell_type": "code",
   "execution_count": 9,
   "metadata": {},
   "outputs": [],
   "source": [
    "from sklearn.model_selection import train_test_split\n",
    "X_train, X_test, y_train, y_test = train_test_split(data, target, test_size=0.3, random_state=0)"
   ]
  },
  {
   "cell_type": "code",
   "execution_count": 12,
   "metadata": {},
   "outputs": [],
   "source": [
    "# scaling\n",
    "from sklearn.preprocessing import StandardScaler\n",
    "sc = StandardScaler()\n",
    "sc.fit(X_train)\n",
    "\n",
    "X_train_std = sc.transform(X_train)\n",
    "X_test_std = sc.transform(X_test)"
   ]
  },
  {
   "cell_type": "code",
   "execution_count": 35,
   "metadata": {},
   "outputs": [
    {
     "name": "stdout",
     "output_type": "stream",
     "text": [
      "train acc: 0.6952380952380952\n",
      "test acc: 0.6\n",
      "train acc: 0.9428571428571428\n",
      "test acc: 0.9555555555555556\n",
      "train acc: 0.9523809523809523\n",
      "test acc: 0.9555555555555556\n",
      "train acc: 0.9523809523809523\n",
      "test acc: 0.9777777777777777\n",
      "train acc: 0.9523809523809523\n",
      "test acc: 0.9777777777777777\n",
      "train acc: 0.9619047619047619\n",
      "test acc: 0.9777777777777777\n",
      "train acc: 0.9619047619047619\n",
      "test acc: 0.9777777777777777\n"
     ]
    },
    {
     "data": {
      "text/plain": [
       "<matplotlib.legend.Legend at 0x24e36675848>"
      ]
     },
     "execution_count": 35,
     "metadata": {},
     "output_type": "execute_result"
    },
    {
     "data": {
      "image/png": "[encoded data removed]",
      "text/plain": [
       "<Figure size 432x288 with 1 Axes>"
      ]
     },
     "metadata": {
      "needs_background": "light"
     },
     "output_type": "display_data"
    }
   ],
   "source": [
    "from sklearn.linear_model import LogisticRegression\n",
    "import matplotlib.pyplot as plt\n",
    "\n",
    "C = [0.01,0.1,1,10,100,1000,10000]\n",
    "\n",
    "train_accs = []\n",
    "test_accs = []\n",
    "\n",
    "# run Logistic Regression with various Cs\n",
    "for c in C:\n",
    "    lr = LogisticRegression(C=c, random_state=0)\n",
    "    lr.fit(X_train_std, y_train)\n",
    "    train_pred = lr.predict(X_train_std)\n",
    "    train_ac = np.sum(y_train==train_pred)/len(train_pred)\n",
    "\n",
    "    test_pred = lr.predict(X_test_std)\n",
    "    test_ac = np.sum(y_test==test_pred)/len(test_pred)\n",
    "\n",
    "    print(\"train acc:\", train_ac)\n",
    "    print(\"test acc:\", test_ac)\n",
    "    train_accs.append(train_ac)\n",
    "    test_accs.append(test_ac)\n",
    "\n",
    "plt.plot(C, train_accs, label=\"train\")\n",
    "plt.plot(C, test_accs, label=\"test\")\n",
    "plt.xscale(\"log\")\n",
    "plt.legend()\n"
   ]
  },
  {
   "cell_type": "code",
   "execution_count": null,
   "metadata": {},
   "outputs": [],
   "source": []
  }
 ],
 "metadata": {
  "interpreter": {
   "hash": "7af331789ae3856abc3a5e96e8196d39fa8a6ae802a75249d7099fb701c5a867"
  },
  "kernelspec": {
   "display_name": "Python 3.7.10 ('pytorch')",
   "language": "python",
   "name": "python3"
  },
  "language_info": {
   "codemirror_mode": {
    "name": "ipython",
    "version": 3
   },
   "file_extension": ".py",
   "mimetype": "text/x-python",
   "name": "python",
   "nbconvert_exporter": "python",
   "pygments_lexer": "ipython3",
   "version": "3.7.10"
  },
  "orig_nbformat": 4
 },
 "nbformat": 4,
 "nbformat_minor": 2
}
